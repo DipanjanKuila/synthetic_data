{
 "cells": [
  {
   "cell_type": "code",
   "execution_count": 2,
   "metadata": {},
   "outputs": [
    {
     "name": "stdout",
     "output_type": "stream",
     "text": [
      "Requirement already satisfied: sdv in d:\\python_env\\routing\\lib\\site-packages (1.14.0)\n",
      "Requirement already satisfied: boto3>=1.28 in d:\\python_env\\routing\\lib\\site-packages (from sdv) (1.34.133)\n",
      "Requirement already satisfied: botocore>=1.31 in d:\\python_env\\routing\\lib\\site-packages (from sdv) (1.34.133)\n",
      "Requirement already satisfied: cloudpickle>=2.1.0 in d:\\python_env\\routing\\lib\\site-packages (from sdv) (3.0.0)\n",
      "Requirement already satisfied: graphviz>=0.13.2 in d:\\python_env\\routing\\lib\\site-packages (from sdv) (0.20.3)\n",
      "Requirement already satisfied: tqdm>=4.29 in d:\\python_env\\routing\\lib\\site-packages (from sdv) (4.66.4)\n",
      "Requirement already satisfied: copulas>=0.11.0 in d:\\python_env\\routing\\lib\\site-packages (from sdv) (0.11.0)\n",
      "Requirement already satisfied: ctgan>=0.10.0 in d:\\python_env\\routing\\lib\\site-packages (from sdv) (0.10.1)\n",
      "Requirement already satisfied: deepecho>=0.6.0 in d:\\python_env\\routing\\lib\\site-packages (from sdv) (0.6.0)\n",
      "Requirement already satisfied: rdt>=1.12.0 in d:\\python_env\\routing\\lib\\site-packages (from sdv) (1.12.1)\n",
      "Requirement already satisfied: sdmetrics>=0.14.0 in d:\\python_env\\routing\\lib\\site-packages (from sdv) (0.14.1)\n",
      "Requirement already satisfied: platformdirs>=4.0 in d:\\python_env\\routing\\lib\\site-packages (from sdv) (4.2.2)\n",
      "Requirement already satisfied: pyyaml>=6.0.1 in d:\\python_env\\routing\\lib\\site-packages (from sdv) (6.0.1)\n",
      "Requirement already satisfied: numpy<2,>=1.23.3 in d:\\python_env\\routing\\lib\\site-packages (from sdv) (1.26.4)\n",
      "Requirement already satisfied: pandas>=1.5.0 in d:\\python_env\\routing\\lib\\site-packages (from sdv) (2.2.2)\n",
      "Requirement already satisfied: jmespath<2.0.0,>=0.7.1 in d:\\python_env\\routing\\lib\\site-packages (from boto3>=1.28->sdv) (1.0.1)\n",
      "Requirement already satisfied: s3transfer<0.11.0,>=0.10.0 in d:\\python_env\\routing\\lib\\site-packages (from boto3>=1.28->sdv) (0.10.2)\n",
      "Requirement already satisfied: python-dateutil<3.0.0,>=2.1 in d:\\python_env\\routing\\lib\\site-packages (from botocore>=1.31->sdv) (2.9.0.post0)\n",
      "Requirement already satisfied: urllib3!=2.2.0,<3,>=1.25.4 in d:\\python_env\\routing\\lib\\site-packages (from botocore>=1.31->sdv) (2.2.1)\n",
      "Requirement already satisfied: plotly>=5.10.0 in d:\\python_env\\routing\\lib\\site-packages (from copulas>=0.11.0->sdv) (5.22.0)\n",
      "Requirement already satisfied: scipy>=1.9.2 in d:\\python_env\\routing\\lib\\site-packages (from copulas>=0.11.0->sdv) (1.14.0)\n",
      "Requirement already satisfied: torch>=2.0.0 in d:\\python_env\\routing\\lib\\site-packages (from ctgan>=0.10.0->sdv) (2.3.1)\n",
      "Requirement already satisfied: pytz>=2020.1 in d:\\python_env\\routing\\lib\\site-packages (from pandas>=1.5.0->sdv) (2024.1)\n",
      "Requirement already satisfied: tzdata>=2022.7 in d:\\python_env\\routing\\lib\\site-packages (from pandas>=1.5.0->sdv) (2024.1)\n",
      "Requirement already satisfied: Faker>=17 in d:\\python_env\\routing\\lib\\site-packages (from rdt>=1.12.0->sdv) (25.9.2)\n",
      "Requirement already satisfied: scikit-learn>=1.1.3 in d:\\python_env\\routing\\lib\\site-packages (from rdt>=1.12.0->sdv) (1.5.0)\n",
      "Requirement already satisfied: colorama in d:\\python_env\\routing\\lib\\site-packages (from tqdm>=4.29->sdv) (0.4.6)\n",
      "Requirement already satisfied: tenacity>=6.2.0 in d:\\python_env\\routing\\lib\\site-packages (from plotly>=5.10.0->copulas>=0.11.0->sdv) (8.3.0)\n",
      "Requirement already satisfied: packaging in d:\\python_env\\routing\\lib\\site-packages (from plotly>=5.10.0->copulas>=0.11.0->sdv) (23.2)\n",
      "Requirement already satisfied: six>=1.5 in d:\\python_env\\routing\\lib\\site-packages (from python-dateutil<3.0.0,>=2.1->botocore>=1.31->sdv) (1.16.0)\n",
      "Requirement already satisfied: joblib>=1.2.0 in d:\\python_env\\routing\\lib\\site-packages (from scikit-learn>=1.1.3->rdt>=1.12.0->sdv) (1.4.2)\n",
      "Requirement already satisfied: threadpoolctl>=3.1.0 in d:\\python_env\\routing\\lib\\site-packages (from scikit-learn>=1.1.3->rdt>=1.12.0->sdv) (3.5.0)\n",
      "Requirement already satisfied: filelock in d:\\python_env\\routing\\lib\\site-packages (from torch>=2.0.0->ctgan>=0.10.0->sdv) (3.14.0)\n",
      "Requirement already satisfied: typing-extensions>=4.8.0 in d:\\python_env\\routing\\lib\\site-packages (from torch>=2.0.0->ctgan>=0.10.0->sdv) (4.12.1)\n",
      "Requirement already satisfied: sympy in d:\\python_env\\routing\\lib\\site-packages (from torch>=2.0.0->ctgan>=0.10.0->sdv) (1.12.1)\n",
      "Requirement already satisfied: networkx in d:\\python_env\\routing\\lib\\site-packages (from torch>=2.0.0->ctgan>=0.10.0->sdv) (3.3)\n",
      "Requirement already satisfied: jinja2 in d:\\python_env\\routing\\lib\\site-packages (from torch>=2.0.0->ctgan>=0.10.0->sdv) (3.1.4)\n",
      "Requirement already satisfied: fsspec in d:\\python_env\\routing\\lib\\site-packages (from torch>=2.0.0->ctgan>=0.10.0->sdv) (2024.5.0)\n",
      "Requirement already satisfied: mkl<=2021.4.0,>=2021.1.1 in d:\\python_env\\routing\\lib\\site-packages (from torch>=2.0.0->ctgan>=0.10.0->sdv) (2021.4.0)\n",
      "Requirement already satisfied: intel-openmp==2021.* in d:\\python_env\\routing\\lib\\site-packages (from mkl<=2021.4.0,>=2021.1.1->torch>=2.0.0->ctgan>=0.10.0->sdv) (2021.4.0)\n",
      "Requirement already satisfied: tbb==2021.* in d:\\python_env\\routing\\lib\\site-packages (from mkl<=2021.4.0,>=2021.1.1->torch>=2.0.0->ctgan>=0.10.0->sdv) (2021.13.0)\n",
      "Requirement already satisfied: MarkupSafe>=2.0 in d:\\python_env\\routing\\lib\\site-packages (from jinja2->torch>=2.0.0->ctgan>=0.10.0->sdv) (2.1.5)\n",
      "Requirement already satisfied: mpmath<1.4.0,>=1.1.0 in d:\\python_env\\routing\\lib\\site-packages (from sympy->torch>=2.0.0->ctgan>=0.10.0->sdv) (1.3.0)\n",
      "Note: you may need to restart the kernel to use updated packages.\n"
     ]
    },
    {
     "name": "stderr",
     "output_type": "stream",
     "text": [
      "\n",
      "[notice] A new release of pip is available: 24.0 -> 24.1\n",
      "[notice] To update, run: python.exe -m pip install --upgrade pip\n"
     ]
    }
   ],
   "source": [
    "%pip install sdv\n"
   ]
  },
  {
   "cell_type": "markdown",
   "metadata": {},
   "source": [
    "Import necessary libraries"
   ]
  },
  {
   "cell_type": "code",
   "execution_count": 5,
   "metadata": {},
   "outputs": [],
   "source": [
    "from sdv.datasets.local import load_csvs\n",
    "from sdv.metadata import SingleTableMetadata\n",
    "import pandas as pd"
   ]
  },
  {
   "cell_type": "code",
   "execution_count": 6,
   "metadata": {},
   "outputs": [],
   "source": [
    "\n",
    "from sdv.single_table import CopulaGANSynthesizer"
   ]
  },
  {
   "cell_type": "markdown",
   "metadata": {},
   "source": [
    "Load the dataset for synthetic data generation"
   ]
  },
  {
   "cell_type": "code",
   "execution_count": 7,
   "metadata": {},
   "outputs": [],
   "source": [
    "guests_table = pd.read_csv(\"stock_data.csv\")"
   ]
  },
  {
   "cell_type": "markdown",
   "metadata": {},
   "source": [
    "Display basic information about the dataset:"
   ]
  },
  {
   "cell_type": "code",
   "execution_count": 8,
   "metadata": {},
   "outputs": [
    {
     "data": {
      "text/html": [
       "<div>\n",
       "<style scoped>\n",
       "    .dataframe tbody tr th:only-of-type {\n",
       "        vertical-align: middle;\n",
       "    }\n",
       "\n",
       "    .dataframe tbody tr th {\n",
       "        vertical-align: top;\n",
       "    }\n",
       "\n",
       "    .dataframe thead th {\n",
       "        text-align: right;\n",
       "    }\n",
       "</style>\n",
       "<table border=\"1\" class=\"dataframe\">\n",
       "  <thead>\n",
       "    <tr style=\"text-align: right;\">\n",
       "      <th></th>\n",
       "      <th>Open</th>\n",
       "      <th>High</th>\n",
       "      <th>Low</th>\n",
       "      <th>Close</th>\n",
       "      <th>Adj_Close</th>\n",
       "      <th>Volume</th>\n",
       "    </tr>\n",
       "  </thead>\n",
       "  <tbody>\n",
       "    <tr>\n",
       "      <th>0</th>\n",
       "      <td>49.676899</td>\n",
       "      <td>51.693783</td>\n",
       "      <td>47.669952</td>\n",
       "      <td>49.845802</td>\n",
       "      <td>49.845802</td>\n",
       "      <td>44994500</td>\n",
       "    </tr>\n",
       "    <tr>\n",
       "      <th>1</th>\n",
       "      <td>50.178635</td>\n",
       "      <td>54.187561</td>\n",
       "      <td>49.925285</td>\n",
       "      <td>53.805050</td>\n",
       "      <td>53.805050</td>\n",
       "      <td>23005800</td>\n",
       "    </tr>\n",
       "    <tr>\n",
       "      <th>2</th>\n",
       "      <td>55.017166</td>\n",
       "      <td>56.373344</td>\n",
       "      <td>54.172661</td>\n",
       "      <td>54.346527</td>\n",
       "      <td>54.346527</td>\n",
       "      <td>18393200</td>\n",
       "    </tr>\n",
       "    <tr>\n",
       "      <th>3</th>\n",
       "      <td>55.260582</td>\n",
       "      <td>55.439419</td>\n",
       "      <td>51.450363</td>\n",
       "      <td>52.096165</td>\n",
       "      <td>52.096165</td>\n",
       "      <td>15361800</td>\n",
       "    </tr>\n",
       "    <tr>\n",
       "      <th>4</th>\n",
       "      <td>52.140873</td>\n",
       "      <td>53.651051</td>\n",
       "      <td>51.604362</td>\n",
       "      <td>52.657513</td>\n",
       "      <td>52.657513</td>\n",
       "      <td>9257400</td>\n",
       "    </tr>\n",
       "    <tr>\n",
       "      <th>...</th>\n",
       "      <td>...</td>\n",
       "      <td>...</td>\n",
       "      <td>...</td>\n",
       "      <td>...</td>\n",
       "      <td>...</td>\n",
       "      <td>...</td>\n",
       "    </tr>\n",
       "    <tr>\n",
       "      <th>3680</th>\n",
       "      <td>1207.479980</td>\n",
       "      <td>1216.300049</td>\n",
       "      <td>1200.500000</td>\n",
       "      <td>1205.920044</td>\n",
       "      <td>1205.920044</td>\n",
       "      <td>1017800</td>\n",
       "    </tr>\n",
       "    <tr>\n",
       "      <th>3681</th>\n",
       "      <td>1205.939941</td>\n",
       "      <td>1215.670044</td>\n",
       "      <td>1204.130005</td>\n",
       "      <td>1215.000000</td>\n",
       "      <td>1215.000000</td>\n",
       "      <td>950000</td>\n",
       "    </tr>\n",
       "    <tr>\n",
       "      <th>3682</th>\n",
       "      <td>1214.989990</td>\n",
       "      <td>1216.219971</td>\n",
       "      <td>1205.030029</td>\n",
       "      <td>1207.150024</td>\n",
       "      <td>1207.150024</td>\n",
       "      <td>907200</td>\n",
       "    </tr>\n",
       "    <tr>\n",
       "      <th>3683</th>\n",
       "      <td>1207.890015</td>\n",
       "      <td>1208.689941</td>\n",
       "      <td>1199.859985</td>\n",
       "      <td>1203.839966</td>\n",
       "      <td>1203.839966</td>\n",
       "      <td>860200</td>\n",
       "    </tr>\n",
       "    <tr>\n",
       "      <th>3684</th>\n",
       "      <td>1196.000000</td>\n",
       "      <td>1202.290039</td>\n",
       "      <td>1193.079956</td>\n",
       "      <td>1197.250000</td>\n",
       "      <td>1197.250000</td>\n",
       "      <td>865500</td>\n",
       "    </tr>\n",
       "  </tbody>\n",
       "</table>\n",
       "<p>3685 rows × 6 columns</p>\n",
       "</div>"
      ],
      "text/plain": [
       "             Open         High          Low        Close    Adj_Close  \\\n",
       "0       49.676899    51.693783    47.669952    49.845802    49.845802   \n",
       "1       50.178635    54.187561    49.925285    53.805050    53.805050   \n",
       "2       55.017166    56.373344    54.172661    54.346527    54.346527   \n",
       "3       55.260582    55.439419    51.450363    52.096165    52.096165   \n",
       "4       52.140873    53.651051    51.604362    52.657513    52.657513   \n",
       "...           ...          ...          ...          ...          ...   \n",
       "3680  1207.479980  1216.300049  1200.500000  1205.920044  1205.920044   \n",
       "3681  1205.939941  1215.670044  1204.130005  1215.000000  1215.000000   \n",
       "3682  1214.989990  1216.219971  1205.030029  1207.150024  1207.150024   \n",
       "3683  1207.890015  1208.689941  1199.859985  1203.839966  1203.839966   \n",
       "3684  1196.000000  1202.290039  1193.079956  1197.250000  1197.250000   \n",
       "\n",
       "        Volume  \n",
       "0     44994500  \n",
       "1     23005800  \n",
       "2     18393200  \n",
       "3     15361800  \n",
       "4      9257400  \n",
       "...        ...  \n",
       "3680   1017800  \n",
       "3681    950000  \n",
       "3682    907200  \n",
       "3683    860200  \n",
       "3684    865500  \n",
       "\n",
       "[3685 rows x 6 columns]"
      ]
     },
     "execution_count": 8,
     "metadata": {},
     "output_type": "execute_result"
    }
   ],
   "source": [
    "guests_table"
   ]
  },
  {
   "cell_type": "markdown",
   "metadata": {},
   "source": [
    "Generate metadata from the dataframe"
   ]
  },
  {
   "cell_type": "code",
   "execution_count": 10,
   "metadata": {},
   "outputs": [],
   "source": [
    "metadata = SingleTableMetadata()"
   ]
  },
  {
   "cell_type": "code",
   "execution_count": 11,
   "metadata": {},
   "outputs": [],
   "source": [
    "metadata.detect_from_dataframe(data=guests_table)"
   ]
  },
  {
   "cell_type": "code",
   "execution_count": 12,
   "metadata": {},
   "outputs": [
    {
     "data": {
      "text/plain": [
       "{\n",
       "    \"columns\": {\n",
       "        \"Open\": {\n",
       "            \"sdtype\": \"numerical\"\n",
       "        },\n",
       "        \"High\": {\n",
       "            \"sdtype\": \"numerical\"\n",
       "        },\n",
       "        \"Low\": {\n",
       "            \"sdtype\": \"numerical\"\n",
       "        },\n",
       "        \"Close\": {\n",
       "            \"sdtype\": \"numerical\"\n",
       "        },\n",
       "        \"Adj_Close\": {\n",
       "            \"sdtype\": \"numerical\"\n",
       "        },\n",
       "        \"Volume\": {\n",
       "            \"sdtype\": \"numerical\"\n",
       "        }\n",
       "    },\n",
       "    \"METADATA_SPEC_VERSION\": \"SINGLE_TABLE_V1\"\n",
       "}"
      ]
     },
     "execution_count": 12,
     "metadata": {},
     "output_type": "execute_result"
    }
   ],
   "source": [
    "metadata"
   ]
  },
  {
   "cell_type": "markdown",
   "metadata": {},
   "source": [
    "Initialize the CopulaGAN synthesizer with specified parameters"
   ]
  },
  {
   "cell_type": "code",
   "execution_count": 13,
   "metadata": {},
   "outputs": [
    {
     "name": "stderr",
     "output_type": "stream",
     "text": [
      "d:\\python_env\\routing\\Lib\\site-packages\\sdv\\single_table\\base.py:84: UserWarning: We strongly recommend saving the metadata using 'save_to_json' for replicability in future SDV versions.\n",
      "  warnings.warn(\n"
     ]
    }
   ],
   "source": [
    "synthesizer = CopulaGANSynthesizer(metadata, enforce_min_max_values=True, enforce_rounding=False, epochs=100, batch_size=100, cuda=False, generator_lr=0.0002, generator_decay=1e-06, discriminator_lr=0.0002, discriminator_decay=1e-06)"
   ]
  },
  {
   "cell_type": "markdown",
   "metadata": {},
   "source": [
    "parameters of the synthesizer"
   ]
  },
  {
   "cell_type": "code",
   "execution_count": 22,
   "metadata": {},
   "outputs": [
    {
     "data": {
      "text/plain": [
       "{'enforce_min_max_values': True,\n",
       " 'enforce_rounding': False,\n",
       " 'locales': ['en_US'],\n",
       " 'embedding_dim': 128,\n",
       " 'generator_dim': (256, 256),\n",
       " 'discriminator_dim': (256, 256),\n",
       " 'generator_lr': 0.0002,\n",
       " 'generator_decay': 1e-06,\n",
       " 'discriminator_lr': 0.0002,\n",
       " 'discriminator_decay': 1e-06,\n",
       " 'batch_size': 100,\n",
       " 'discriminator_steps': 1,\n",
       " 'log_frequency': True,\n",
       " 'verbose': False,\n",
       " 'epochs': 100,\n",
       " 'pac': 10,\n",
       " 'cuda': False,\n",
       " 'numerical_distributions': {},\n",
       " 'default_distribution': 'beta'}"
      ]
     },
     "execution_count": 22,
     "metadata": {},
     "output_type": "execute_result"
    }
   ],
   "source": [
    "synthesizer.get_parameters()"
   ]
  },
  {
   "cell_type": "markdown",
   "metadata": {},
   "source": [
    "Fit the model to the dataset"
   ]
  },
  {
   "cell_type": "code",
   "execution_count": 15,
   "metadata": {},
   "outputs": [],
   "source": [
    "model_copula = synthesizer.fit(guests_table)\n"
   ]
  },
  {
   "cell_type": "markdown",
   "metadata": {},
   "source": [
    "Generate synthetic data"
   ]
  },
  {
   "cell_type": "code",
   "execution_count": 16,
   "metadata": {},
   "outputs": [],
   "source": [
    "new_data = synthesizer.sample(6000)"
   ]
  },
  {
   "cell_type": "code",
   "execution_count": 18,
   "metadata": {},
   "outputs": [
    {
     "data": {
      "text/html": [
       "<div>\n",
       "<style scoped>\n",
       "    .dataframe tbody tr th:only-of-type {\n",
       "        vertical-align: middle;\n",
       "    }\n",
       "\n",
       "    .dataframe tbody tr th {\n",
       "        vertical-align: top;\n",
       "    }\n",
       "\n",
       "    .dataframe thead th {\n",
       "        text-align: right;\n",
       "    }\n",
       "</style>\n",
       "<table border=\"1\" class=\"dataframe\">\n",
       "  <thead>\n",
       "    <tr style=\"text-align: right;\">\n",
       "      <th></th>\n",
       "      <th>Open</th>\n",
       "      <th>High</th>\n",
       "      <th>Low</th>\n",
       "      <th>Close</th>\n",
       "      <th>Adj_Close</th>\n",
       "      <th>Volume</th>\n",
       "    </tr>\n",
       "  </thead>\n",
       "  <tbody>\n",
       "    <tr>\n",
       "      <th>0</th>\n",
       "      <td>751.272597</td>\n",
       "      <td>588.817911</td>\n",
       "      <td>1020.525608</td>\n",
       "      <td>1176.079470</td>\n",
       "      <td>1268.329956</td>\n",
       "      <td>1461343</td>\n",
       "    </tr>\n",
       "    <tr>\n",
       "      <th>1</th>\n",
       "      <td>1220.932023</td>\n",
       "      <td>1142.248973</td>\n",
       "      <td>976.645249</td>\n",
       "      <td>564.969605</td>\n",
       "      <td>780.042373</td>\n",
       "      <td>1573974</td>\n",
       "    </tr>\n",
       "    <tr>\n",
       "      <th>2</th>\n",
       "      <td>513.883402</td>\n",
       "      <td>606.970192</td>\n",
       "      <td>921.403243</td>\n",
       "      <td>553.662845</td>\n",
       "      <td>70.549628</td>\n",
       "      <td>4584897</td>\n",
       "    </tr>\n",
       "    <tr>\n",
       "      <th>3</th>\n",
       "      <td>307.542602</td>\n",
       "      <td>291.515053</td>\n",
       "      <td>291.841689</td>\n",
       "      <td>336.567462</td>\n",
       "      <td>300.043205</td>\n",
       "      <td>7598497</td>\n",
       "    </tr>\n",
       "    <tr>\n",
       "      <th>4</th>\n",
       "      <td>1240.821746</td>\n",
       "      <td>1272.938204</td>\n",
       "      <td>557.251988</td>\n",
       "      <td>603.210810</td>\n",
       "      <td>1163.998831</td>\n",
       "      <td>1309691</td>\n",
       "    </tr>\n",
       "    <tr>\n",
       "      <th>...</th>\n",
       "      <td>...</td>\n",
       "      <td>...</td>\n",
       "      <td>...</td>\n",
       "      <td>...</td>\n",
       "      <td>...</td>\n",
       "      <td>...</td>\n",
       "    </tr>\n",
       "    <tr>\n",
       "      <th>5995</th>\n",
       "      <td>227.386309</td>\n",
       "      <td>565.268126</td>\n",
       "      <td>216.274740</td>\n",
       "      <td>450.975436</td>\n",
       "      <td>249.263588</td>\n",
       "      <td>14808867</td>\n",
       "    </tr>\n",
       "    <tr>\n",
       "      <th>5996</th>\n",
       "      <td>583.950668</td>\n",
       "      <td>1112.459258</td>\n",
       "      <td>113.971465</td>\n",
       "      <td>803.575205</td>\n",
       "      <td>567.018189</td>\n",
       "      <td>1285039</td>\n",
       "    </tr>\n",
       "    <tr>\n",
       "      <th>5997</th>\n",
       "      <td>251.101808</td>\n",
       "      <td>564.800129</td>\n",
       "      <td>540.224776</td>\n",
       "      <td>116.074842</td>\n",
       "      <td>61.399117</td>\n",
       "      <td>11606614</td>\n",
       "    </tr>\n",
       "    <tr>\n",
       "      <th>5998</th>\n",
       "      <td>252.495769</td>\n",
       "      <td>215.091491</td>\n",
       "      <td>51.394985</td>\n",
       "      <td>365.139969</td>\n",
       "      <td>555.341145</td>\n",
       "      <td>8305337</td>\n",
       "    </tr>\n",
       "    <tr>\n",
       "      <th>5999</th>\n",
       "      <td>1150.652951</td>\n",
       "      <td>1093.539224</td>\n",
       "      <td>1173.472036</td>\n",
       "      <td>1059.573948</td>\n",
       "      <td>1144.469496</td>\n",
       "      <td>1797192</td>\n",
       "    </tr>\n",
       "  </tbody>\n",
       "</table>\n",
       "<p>6000 rows × 6 columns</p>\n",
       "</div>"
      ],
      "text/plain": [
       "             Open         High          Low        Close    Adj_Close  \\\n",
       "0      751.272597   588.817911  1020.525608  1176.079470  1268.329956   \n",
       "1     1220.932023  1142.248973   976.645249   564.969605   780.042373   \n",
       "2      513.883402   606.970192   921.403243   553.662845    70.549628   \n",
       "3      307.542602   291.515053   291.841689   336.567462   300.043205   \n",
       "4     1240.821746  1272.938204   557.251988   603.210810  1163.998831   \n",
       "...           ...          ...          ...          ...          ...   \n",
       "5995   227.386309   565.268126   216.274740   450.975436   249.263588   \n",
       "5996   583.950668  1112.459258   113.971465   803.575205   567.018189   \n",
       "5997   251.101808   564.800129   540.224776   116.074842    61.399117   \n",
       "5998   252.495769   215.091491    51.394985   365.139969   555.341145   \n",
       "5999  1150.652951  1093.539224  1173.472036  1059.573948  1144.469496   \n",
       "\n",
       "        Volume  \n",
       "0      1461343  \n",
       "1      1573974  \n",
       "2      4584897  \n",
       "3      7598497  \n",
       "4      1309691  \n",
       "...        ...  \n",
       "5995  14808867  \n",
       "5996   1285039  \n",
       "5997  11606614  \n",
       "5998   8305337  \n",
       "5999   1797192  \n",
       "\n",
       "[6000 rows x 6 columns]"
      ]
     },
     "execution_count": 18,
     "metadata": {},
     "output_type": "execute_result"
    }
   ],
   "source": [
    "new_data"
   ]
  },
  {
   "cell_type": "markdown",
   "metadata": {},
   "source": [
    "Save the synthetic data to a CSV file"
   ]
  },
  {
   "cell_type": "code",
   "execution_count": 19,
   "metadata": {},
   "outputs": [],
   "source": [
    "new_data.to_csv('CopulaGAN_Data_for_synthesis.csv', index=False)"
   ]
  }
 ],
 "metadata": {
  "kernelspec": {
   "display_name": "routing",
   "language": "python",
   "name": "python3"
  },
  "language_info": {
   "codemirror_mode": {
    "name": "ipython",
    "version": 3
   },
   "file_extension": ".py",
   "mimetype": "text/x-python",
   "name": "python",
   "nbconvert_exporter": "python",
   "pygments_lexer": "ipython3",
   "version": "3.11.8"
  }
 },
 "nbformat": 4,
 "nbformat_minor": 2
}
